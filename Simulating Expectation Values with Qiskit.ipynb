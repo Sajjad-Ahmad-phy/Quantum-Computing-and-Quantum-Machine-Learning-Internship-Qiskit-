{
 "cells": [
  {
   "cell_type": "markdown",
   "id": "b73f95af",
   "metadata": {},
   "source": [
    "### Simulating Expectation Values"
   ]
  },
  {
   "cell_type": "code",
   "execution_count": 3,
   "id": "1c63a2f8",
   "metadata": {},
   "outputs": [],
   "source": [
    "from qiskit.circuit.library import RealAmplitudes\n",
    "from qiskit.quantum_info import Pauli, Statevector\n",
    "from qiskit.primitives import Estimator\n",
    "from qiskit_aer import StatevectorSimulator\n",
    "from qiskit.circuit import QuantumCircuit, ParameterVector\n",
    "from qiskit.visualization import circuit_drawer\n",
    "import numpy as np"
   ]
  },
  {
   "cell_type": "code",
   "execution_count": 2,
   "id": "f8631fc7",
   "metadata": {},
   "outputs": [
    {
     "data": {
      "text/plain": [
       "array([0.9519607])"
      ]
     },
     "execution_count": 2,
     "metadata": {},
     "output_type": "execute_result"
    }
   ],
   "source": [
    "\"First, we need to define our parameterized state using RealAmplitude circuit with 2 Qbits\"\n",
    "ansatz =RealAmplitudes(num_qubits = 2, reps = 1, entanglement = 'linear', insert_barriers = True).decompose()\n",
    "\n",
    "\"\"\"Next we need to define a Hamiltonian: This is the operator that describes the system (in the energy basis).\n",
    "let's use: H = Z tensor Z.\n",
    "\"\"\"\n",
    "\n",
    "Z = Pauli('Z')\n",
    "hamiltonian = Z ^ Z\n",
    "\n",
    "# randomly defining circuit parameters\n",
    "parameters = np.random.rand(ansatz.num_parameters)\n",
    "\n",
    "def Expectation_Value(parameter_values):\n",
    "    estimator = Estimator()\n",
    "    expectation_value = estimator.run(ansatz, hamiltonian, parameter_values).result().values\n",
    "    return expectation_value\n",
    "\n",
    "'Print state Vector'\n",
    "def State():\n",
    "    simulator = StatevectorSimulator()\n",
    "    result = simulator.run(ansatz).result()\n",
    "    statevector = result.get_statevector(ansatz)\n",
    "    statevector.draw('latex')\n",
    "\n",
    "Expectation_Value(parameters)"
   ]
  },
  {
   "cell_type": "markdown",
   "id": "e34c17ee",
   "metadata": {},
   "source": [
    "##### Let's have a more simplified circut"
   ]
  },
  {
   "cell_type": "code",
   "execution_count": 6,
   "id": "75a37b0b",
   "metadata": {},
   "outputs": [
    {
     "name": "stdout",
     "output_type": "stream",
     "text": [
      "Expectation value [1.]\n"
     ]
    },
    {
     "data": {
      "image/png": "[encoded data removed]",
      "text/plain": [
       "<Figure size 538.128x200.667 with 1 Axes>"
      ]
     },
     "execution_count": 6,
     "metadata": {},
     "output_type": "execute_result"
    }
   ],
   "source": [
    "parameters = ParameterVector(r'$\\theta$', length = 4)\n",
    "qc = QuantumCircuit(2)\n",
    "qc.rz(parameters[0], 0)\n",
    "qc.rz(parameters[1], 1)\n",
    "qc.barrier()\n",
    "\n",
    "qc.cx(0, 1)\n",
    "qc.barrier()\n",
    "\n",
    "qc.rz(parameters[2], 0)\n",
    "qc.rz(parameters[3], 1)\n",
    "\n",
    "thetas = np.random.rand(len(parameters))\n",
    "qc = qc.bind_parameters(dict(zip(qc.parameters, thetas)))   # assigning values to parameters\n",
    "\n",
    "\n",
    "Z = Pauli('Z')\n",
    "hamiltonian = Z ^ Z\n",
    "\n",
    "estimator = Estimator()\n",
    "expectation_value = estimator.run(qc, hamiltonian).result().values\n",
    "print(f'Expectation value',expectation_value)\n",
    "\n",
    "qc.draw(output = 'mpl')"
   ]
  },
  {
   "cell_type": "code",
   "execution_count": null,
   "id": "1f723cdc",
   "metadata": {},
   "outputs": [],
   "source": []
  }
 ],
 "metadata": {
  "kernelspec": {
   "display_name": "Python 3 (ipykernel)",
   "language": "python",
   "name": "python3"
  },
  "language_info": {
   "codemirror_mode": {
    "name": "ipython",
    "version": 3
   },
   "file_extension": ".py",
   "mimetype": "text/x-python",
   "name": "python",
   "nbconvert_exporter": "python",
   "pygments_lexer": "ipython3",
   "version": "3.9.13"
  }
 },
 "nbformat": 4,
 "nbformat_minor": 5
}
