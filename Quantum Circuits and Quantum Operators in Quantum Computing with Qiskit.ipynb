{
 "cells": [
  {
   "cell_type": "markdown",
   "id": "b50d182e",
   "metadata": {},
   "source": [
    "### Quantum Circuits"
   ]
  },
  {
   "cell_type": "code",
   "execution_count": 1,
   "id": "c761153a",
   "metadata": {},
   "outputs": [
    {
     "data": {
      "image/png": "[encoded data removed]",
      "text/plain": [
       "<Figure size 436.286x117.056 with 1 Axes>"
      ]
     },
     "execution_count": 1,
     "metadata": {},
     "output_type": "execute_result"
    }
   ],
   "source": [
    "from qiskit import QuantumCircuit\n",
    "from qiskit.quantum_info import Operator\n",
    "\n",
    "qc = QuantumCircuit(1)\n",
    "qc.h(0)\n",
    "qc.s(0)\n",
    "qc.h(0)\n",
    "qc.t(0)\n",
    "\n",
    "qc.draw('mpl')"
   ]
  },
  {
   "cell_type": "markdown",
   "id": "2fe55142",
   "metadata": {},
   "source": [
    "The quantum state after these operation will be:"
   ]
  },
  {
   "cell_type": "code",
   "execution_count": 2,
   "id": "b59f89d8",
   "metadata": {},
   "outputs": [
    {
     "data": {
      "text/latex": [
       "$$(0.8535533906 + 0.3535533906 i) |0\\rangle+(0.3535533906 - 0.1464466094 i) |1\\rangle$$"
      ],
      "text/plain": [
       "<IPython.core.display.Latex object>"
      ]
     },
     "execution_count": 2,
     "metadata": {},
     "output_type": "execute_result"
    }
   ],
   "source": [
    "from qiskit import QuantumCircuit\n",
    "from qiskit.quantum_info import Statevector\n",
    "from qiskit.visualization import plot_histogram\n",
    "\n",
    "qc = QuantumCircuit(1)     # QC abrevation for Quantum Circuit\n",
    "\n",
    "qc.h(0)\n",
    "qc.t(0)\n",
    "qc.h(0)\n",
    "qc.t(0)\n",
    "\n",
    "ket0 = Statevector([1, 0])\n",
    "V = ket0.evolve(qc)\n",
    "\n",
    "V.draw('latex')"
   ]
  },
  {
   "cell_type": "markdown",
   "id": "0ea69caf",
   "metadata": {},
   "source": [
    "## Quantum circuit for measuring Qbits to classical bits"
   ]
  },
  {
   "cell_type": "code",
   "execution_count": 3,
   "id": "517f1d15",
   "metadata": {},
   "outputs": [
    {
     "name": "stdout",
     "output_type": "stream",
     "text": [
      "Statevector([0.70710678+0.j, 0.        +0.j, 0.        +0.j,\n",
      "             0.70710678+0.j],\n",
      "            dims=(2, 2))\n"
     ]
    },
    {
     "data": {
      "image/png": "[encoded data removed]",
      "text/plain": [
       "<Figure size 436.488x367.889 with 1 Axes>"
      ]
     },
     "execution_count": 3,
     "metadata": {},
     "output_type": "execute_result"
    }
   ],
   "source": [
    "from qiskit import QuantumCircuit, QuantumRegister, ClassicalRegister\n",
    "from qiskit import *\n",
    "\n",
    "X = QuantumRegister(1, 'x')\n",
    "Y = QuantumRegister(1, 'y')\n",
    "A = ClassicalRegister(1, 'a')\n",
    "B = ClassicalRegister(1, 'b')\n",
    "\n",
    "circuit = QuantumCircuit(Y, X, B, A)    # X, Y are Qbits, and A, B are classical Bits\n",
    "\n",
    "circuit.h(Y)\n",
    "circuit.cx(Y, X)\n",
    "\n",
    "simulator = Aer.get_backend('statevector_simulator')\n",
    "result = execute(circuit, backend = simulator).result()\n",
    "statevector = result.get_statevector()\n",
    "\n",
    "print(statevector)\n",
    "\n",
    "circuit.measure(Y, B)\n",
    "circuit.measure(X, A)\n",
    "\n",
    "circuit.draw(output= 'mpl')"
   ]
  },
  {
   "cell_type": "code",
   "execution_count": null,
   "id": "3b634036",
   "metadata": {},
   "outputs": [],
   "source": []
  },
  {
   "cell_type": "markdown",
   "id": "5a160bc6",
   "metadata": {},
   "source": [
    "## Applying an operator on a quantum state"
   ]
  },
  {
   "cell_type": "markdown",
   "id": "fe482c9e",
   "metadata": {},
   "source": [
    "Tensor producto of plus, |+> = $\\frac{1}{2} |0> + \\frac{1}{2} |1>$, state with another state, I_state = $\\frac{1}{2} |0> + i\\frac{1}{2} |1>$\n"
   ]
  },
  {
   "cell_type": "code",
   "execution_count": 1,
   "id": "f93d6988",
   "metadata": {},
   "outputs": [
    {
     "data": {
      "text/latex": [
       "$$\\frac{1}{2} |00\\rangle+\\frac{i}{2} |01\\rangle+\\frac{1}{2} |10\\rangle+\\frac{i}{2} |11\\rangle$$"
      ],
      "text/plain": [
       "<IPython.core.display.Latex object>"
      ]
     },
     "execution_count": 1,
     "metadata": {},
     "output_type": "execute_result"
    }
   ],
   "source": [
    "from qiskit.quantum_info import Statevector, Operator\n",
    "import numpy as np\n",
    "\n",
    "plus = Statevector.from_label('+')\n",
    "\n",
    "I_state = Statevector([1/np.sqrt(2), 1j/np.sqrt(2)])\n",
    "\n",
    "psi = plus.tensor(I_state)\n",
    "\n",
    "psi.draw('latex')"
   ]
  },
  {
   "cell_type": "markdown",
   "id": "4bcb668f",
   "metadata": {},
   "source": [
    "###### Operating state |0> with different operators"
   ]
  },
  {
   "cell_type": "code",
   "execution_count": 2,
   "id": "81b6c9ad",
   "metadata": {},
   "outputs": [
    {
     "data": {
      "text/latex": [
       "$$ |0\\rangle$$"
      ],
      "text/plain": [
       "<IPython.core.display.Latex object>"
      ]
     },
     "execution_count": 2,
     "metadata": {},
     "output_type": "execute_result"
    }
   ],
   "source": [
    "from qiskit.quantum_info import Statevector, Operator\n",
    "import numpy as np\n",
    "\n",
    "a = 1/np.sqrt(2)\n",
    "V = Statevector([1, 0])    # State Vector\n",
    "\n",
    "\"Operators\"\n",
    "X = Operator([[0, 1], [1, 0]])\n",
    "Y = Operator([[0, -1.j], [1.j, 0]])\n",
    "Z = Operator([[1, 0], [0, -1]])\n",
    "H = Operator([[a, a], [a, -a]])\n",
    "S = Operator([[1, 0], [1, 1.j]])\n",
    "T = Operator([[1, 0], [0, (1+1.j)/np.sqrt(2)]])\n",
    "\n",
    "\"Applying different Operators on a quantum state\"\n",
    "V.evolve(H)\n",
    "V.evolve(T)\n",
    "V.evolve(H)\n",
    "V.evolve(T)\n",
    "V.evolve(Z)\n",
    "\n",
    "V.draw('latex')"
   ]
  },
  {
   "cell_type": "code",
   "execution_count": 3,
   "id": "a95b206c",
   "metadata": {},
   "outputs": [
    {
     "data": {
      "text/latex": [
       "$$(0.8535533906 + 0.3535533906 i) |0\\rangle+(-0.3535533906 + 0.1464466094 i) |1\\rangle$$"
      ],
      "text/plain": [
       "<IPython.core.display.Latex object>"
      ]
     },
     "execution_count": 3,
     "metadata": {},
     "output_type": "execute_result"
    }
   ],
   "source": [
    "from qiskit.quantum_info import Statevector, Operator\n",
    "import numpy as np\n",
    "\n",
    "a = 1/np.sqrt(2)\n",
    "V = Statevector([1, 0])    # State Vector\n",
    "\n",
    "\"Operators\"\n",
    "X = Operator([[0, 1], [1, 0]])\n",
    "Y = Operator([[0, -1.j], [1.j, 0]])\n",
    "Z = Operator([[1, 0], [0, -1]])\n",
    "H = Operator([[a, a], [a, -a]])\n",
    "S = Operator([[1, 0], [1, 1.j]])\n",
    "T = Operator([[1, 0], [0, (1+1.j)/np.sqrt(2)]])\n",
    "\n",
    "\"Applying different Operators on a quantum state\"\n",
    "V = V.evolve(H)\n",
    "V = V.evolve(T)\n",
    "V = V.evolve(H)\n",
    "V = V.evolve(T)\n",
    "V = V.evolve(Z)\n",
    "\n",
    "V.draw('latex')\n"
   ]
  },
  {
   "cell_type": "markdown",
   "id": "f56f26b4",
   "metadata": {},
   "source": [
    "Most of the operators are defined in Qiskit Quantum Circuit module, so we can access to them by dot (.) extansion."
   ]
  },
  {
   "cell_type": "code",
   "execution_count": 6,
   "id": "8c45d538",
   "metadata": {},
   "outputs": [
    {
     "data": {
      "text/latex": [
       "$$(0.8535533906 + 0.3535533906 i) |0\\rangle+(0.3535533906 - 0.1464466094 i) |1\\rangle$$"
      ],
      "text/plain": [
       "<IPython.core.display.Latex object>"
      ]
     },
     "execution_count": 6,
     "metadata": {},
     "output_type": "execute_result"
    }
   ],
   "source": [
    "#This is the same algorithm as in line 3.\n",
    "from qiskit import QuantumCircuit\n",
    "from qiskit.quantum_info import Statevector\n",
    "from qiskit.visualization import plot_histogram\n",
    "\n",
    "qc = QuantumCircuit(1)     # QC abrevation for Quantum Circuit\n",
    "\n",
    "qc.h(0)\n",
    "qc.t(0)\n",
    "qc.h(0)\n",
    "qc.t(0)\n",
    "\n",
    "ket0 = Statevector([1, 0])\n",
    "V = ket0.evolve(qc)\n",
    "\n",
    "V.draw('latex')"
   ]
  },
  {
   "cell_type": "code",
   "execution_count": 9,
   "id": "3ff15874",
   "metadata": {},
   "outputs": [
    {
     "data": {
      "text/latex": [
       "$$\\frac{i}{2} |00\\rangle+\\frac{1}{2} |01\\rangle+\\frac{i}{2} |10\\rangle+\\frac{1}{2} |11\\rangle$$"
      ],
      "text/plain": [
       "<IPython.core.display.Latex object>"
      ]
     },
     "execution_count": 9,
     "metadata": {},
     "output_type": "execute_result"
    }
   ],
   "source": [
    "from qiskit.quantum_info import Statevector as S_V, Operator\n",
    "import numpy as np\n",
    "a = 1/np.sqrt(2)\n",
    "\n",
    "\"Defining Two states\"\n",
    "zero, one = S_V.from_label('0'), S_V.from_label('1')\n",
    "\n",
    "State = zero.tensor(one)    #returns new `Statevector`(|0⟩⊗|1⟩)\n",
    "State.draw('latex')\n",
    "\n",
    "State_1 = S_V([a, a])\n",
    "State_2 = S_V([a, 1.j*a])\n",
    "\n",
    "State_1 = State_1.tensor(State_2)   #returns new `Statevector`(|state_2⟩⊗|State_1⟩)\n",
    "\n",
    "\n",
    "X = Operator([ [0, 1],\n",
    "                [1, 0] ])\n",
    "\n",
    "I = Operator([  [1, 0],\n",
    "                 [0, 1] ])\n",
    "X.tensor(I)                   #returns new `Operator`  (|X⟩⊗|I⟩)\n",
    "\n",
    "State_1.evolve(I ^ X).draw('latex')"
   ]
  },
  {
   "cell_type": "markdown",
   "id": "fe64c0fc",
   "metadata": {},
   "source": [
    "* Below, we write a CNOT operator and caluculate CNOT|Psi⟩"
   ]
  },
  {
   "cell_type": "code",
   "execution_count": 10,
   "id": "96574fd4",
   "metadata": {},
   "outputs": [
    {
     "data": {
      "text/latex": [
       "$$\\frac{1}{2} |00\\rangle+\\frac{i}{2} |01\\rangle+\\frac{1}{2} |10\\rangle+\\frac{i}{2} |11\\rangle$$"
      ],
      "text/plain": [
       "<IPython.core.display.Latex object>"
      ]
     },
     "execution_count": 10,
     "metadata": {},
     "output_type": "execute_result"
    }
   ],
   "source": [
    "from qiskit.quantum_info import Statevector as S_V, Operator\n",
    "import numpy as np\n",
    "a = 1/np.sqrt(2)\n",
    "\n",
    "Plus = S_V.from_label('+')  # here the '+' represent  √2/2(|0⟩+|1⟩)\n",
    "Psi = S_V([a, 1.j*a])\n",
    "\n",
    "Psi = Plus.tensor(Psi)\n",
    "\n",
    "CX = Operator([ [1, 0, 0, 0],\n",
    "                [0, 1, 0, 0], \n",
    "                [0, 0, 0, 1],\n",
    "                [0, 0, 1, 0] ])\n",
    "Psi.evolve(CX)\n",
    "Psi.draw('latex')"
   ]
  },
  {
   "cell_type": "markdown",
   "id": "e76d5350",
   "metadata": {},
   "source": [
    "#### Challenge\n",
    "\n",
    "* Can you create each of the Bell states using only single-qubit state vectors and the CNOT operator?\n",
    "\n",
    "* Yes, We can Create."
   ]
  },
  {
   "cell_type": "code",
   "execution_count": 13,
   "id": "6de736b8",
   "metadata": {},
   "outputs": [
    {
     "data": {
      "text/latex": [
       "$$\\frac{\\sqrt{2}}{2} |01\\rangle- \\frac{\\sqrt{2}}{2} |10\\rangle$$"
      ],
      "text/plain": [
       "<IPython.core.display.Latex object>"
      ]
     },
     "execution_count": 13,
     "metadata": {},
     "output_type": "execute_result"
    }
   ],
   "source": [
    "from qiskit.quantum_info import Statevector as S_V, Operator\n",
    "import numpy as np\n",
    "\n",
    "Psi_1 = S_V([1/np.sqrt(2) , 1/np.sqrt(2)])\n",
    "\n",
    "Psi_2 = S_V([1/np.sqrt(2) , -1/np.sqrt(2)])\n",
    "\n",
    "\n",
    "ket0 = S_V([1, 0])     #  |0⟩\n",
    "ket1 = S_V([0, 1])     #  |1⟩\n",
    "\n",
    "\n",
    "\"CNOT Operator\"\n",
    "CX = Operator([ [1, 0, 0, 0],\n",
    "                [0, 1, 0, 0],\n",
    "                [0, 0, 0, 1], \n",
    "                [0, 0, 1, 0] ])\n",
    "\n",
    "\" Bell states\"\n",
    "\n",
    "'|Φ⁺⟩'\n",
    "Phi_1 = Psi_1.tensor(ket0)\n",
    "Phi_1.evolve(CX).draw('latex')\n",
    "\n",
    "'|Φ⁻⟩'\n",
    "Phi_2 = Psi_2.tensor(ket0)\n",
    "Phi_2.evolve(CX).draw('latex')\n",
    "\n",
    "' |Ψ⁺⟩ '\n",
    "Psi_1 = Psi_1.tensor(ket1)\n",
    "Psi_1.evolve(CX).draw('latex')\n",
    "\n",
    "'|Ψ⁻⟩ '\n",
    "Psi_2 = Psi_2.tensor(ket1)\n",
    "Psi_2.evolve(CX).draw('latex')"
   ]
  },
  {
   "cell_type": "code",
   "execution_count": null,
   "id": "2d53f688",
   "metadata": {},
   "outputs": [],
   "source": []
  }
 ],
 "metadata": {
  "kernelspec": {
   "display_name": "Python 3 (ipykernel)",
   "language": "python",
   "name": "python3"
  },
  "language_info": {
   "codemirror_mode": {
    "name": "ipython",
    "version": 3
   },
   "file_extension": ".py",
   "mimetype": "text/x-python",
   "name": "python",
   "nbconvert_exporter": "python",
   "pygments_lexer": "ipython3",
   "version": "3.9.13"
  }
 },
 "nbformat": 4,
 "nbformat_minor": 5
}
